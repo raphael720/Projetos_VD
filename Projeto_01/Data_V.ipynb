{
 "cells": [
  {
   "cell_type": "markdown",
   "id": "8936de4d",
   "metadata": {},
   "source": [
    "# Informações\n",
    "\n",
    "- nomes: Raphael Leite da Costa Nascimento e Adriel Dos Sandos Araujo Cabral\n",
    "- matrículas: 20190038319 e 20190034839\n",
    "- Disciplina: Visualização de Dados"
   ]
  },
  {
   "cell_type": "markdown",
   "id": "7df73e7b",
   "metadata": {},
   "source": [
    "# Importações"
   ]
  },
  {
   "cell_type": "code",
   "execution_count": 1,
   "id": "409d9d6e",
   "metadata": {},
   "outputs": [],
   "source": [
    "import os\n",
    "import re\n",
    "import pandas as pd\n",
    "import matplotlib.pyplot as plt\n",
    "import seaborn as sns\n",
    "import numpy as np"
   ]
  },
  {
   "cell_type": "markdown",
   "id": "27c689f9",
   "metadata": {},
   "source": [
    "# Montando o data frame princial"
   ]
  },
  {
   "cell_type": "code",
   "execution_count": 2,
   "id": "6b37fe2c",
   "metadata": {},
   "outputs": [
    {
     "data": {
      "text/plain": [
       "['dados\\\\bcim_2016_21_11_2018.gpkg',\n",
       " 'dados\\\\datatran2007.csv',\n",
       " 'dados\\\\datatran2008.csv',\n",
       " 'dados\\\\datatran2009.csv',\n",
       " 'dados\\\\datatran2010.csv',\n",
       " 'dados\\\\datatran2011.csv',\n",
       " 'dados\\\\datatran2012.csv',\n",
       " 'dados\\\\datatran2015.csv',\n",
       " 'dados\\\\datatran2016.csv',\n",
       " 'dados\\\\datatran2017.csv',\n",
       " 'dados\\\\datatran2018.csv',\n",
       " 'dados\\\\datatran2020.csv']"
      ]
     },
     "execution_count": 2,
     "metadata": {},
     "output_type": "execute_result"
    }
   ],
   "source": [
    "data_path = 'dados'\n",
    "files = [os.path.join(data_path, file) for file in os.listdir(data_path)]\n",
    "files"
   ]
  },
  {
   "cell_type": "markdown",
   "id": "0cdf4b03",
   "metadata": {},
   "source": [
    "Criando uma lista de data frames e depois unindo todos em um so"
   ]
  },
  {
   "cell_type": "code",
   "execution_count": 3,
   "id": "7aa53050",
   "metadata": {},
   "outputs": [
    {
     "ename": "ParserError",
     "evalue": "Error tokenizing data. C error: Expected 4 fields in line 85, saw 6\n",
     "output_type": "error",
     "traceback": [
      "\u001b[1;31m---------------------------------------------------------------------------\u001b[0m",
      "\u001b[1;31mUnicodeDecodeError\u001b[0m                        Traceback (most recent call last)",
      "Cell \u001b[1;32mIn [3], line 5\u001b[0m\n\u001b[0;32m      4\u001b[0m \u001b[38;5;28;01mtry\u001b[39;00m:\n\u001b[1;32m----> 5\u001b[0m     dataframes\u001b[38;5;241m.\u001b[39mappend(\u001b[43mpd\u001b[49m\u001b[38;5;241;43m.\u001b[39;49m\u001b[43mread_csv\u001b[49m\u001b[43m(\u001b[49m\u001b[43mfile\u001b[49m\u001b[43m,\u001b[49m\u001b[43m \u001b[49m\u001b[43mdelimiter\u001b[49m\u001b[38;5;241;43m=\u001b[39;49m\u001b[38;5;124;43m'\u001b[39;49m\u001b[38;5;124;43m;\u001b[39;49m\u001b[38;5;124;43m'\u001b[39;49m\u001b[43m)\u001b[49m)\n\u001b[0;32m      6\u001b[0m \u001b[38;5;28;01mexcept\u001b[39;00m:\n",
      "File \u001b[1;32m~\\.conda\\envs\\yolo\\lib\\site-packages\\pandas\\util\\_decorators.py:311\u001b[0m, in \u001b[0;36mdeprecate_nonkeyword_arguments.<locals>.decorate.<locals>.wrapper\u001b[1;34m(*args, **kwargs)\u001b[0m\n\u001b[0;32m    306\u001b[0m     warnings\u001b[38;5;241m.\u001b[39mwarn(\n\u001b[0;32m    307\u001b[0m         msg\u001b[38;5;241m.\u001b[39mformat(arguments\u001b[38;5;241m=\u001b[39marguments),\n\u001b[0;32m    308\u001b[0m         \u001b[38;5;167;01mFutureWarning\u001b[39;00m,\n\u001b[0;32m    309\u001b[0m         stacklevel\u001b[38;5;241m=\u001b[39mstacklevel,\n\u001b[0;32m    310\u001b[0m     )\n\u001b[1;32m--> 311\u001b[0m \u001b[38;5;28;01mreturn\u001b[39;00m \u001b[43mfunc\u001b[49m\u001b[43m(\u001b[49m\u001b[38;5;241;43m*\u001b[39;49m\u001b[43margs\u001b[49m\u001b[43m,\u001b[49m\u001b[43m \u001b[49m\u001b[38;5;241;43m*\u001b[39;49m\u001b[38;5;241;43m*\u001b[39;49m\u001b[43mkwargs\u001b[49m\u001b[43m)\u001b[49m\n",
      "File \u001b[1;32m~\\.conda\\envs\\yolo\\lib\\site-packages\\pandas\\io\\parsers\\readers.py:680\u001b[0m, in \u001b[0;36mread_csv\u001b[1;34m(filepath_or_buffer, sep, delimiter, header, names, index_col, usecols, squeeze, prefix, mangle_dupe_cols, dtype, engine, converters, true_values, false_values, skipinitialspace, skiprows, skipfooter, nrows, na_values, keep_default_na, na_filter, verbose, skip_blank_lines, parse_dates, infer_datetime_format, keep_date_col, date_parser, dayfirst, cache_dates, iterator, chunksize, compression, thousands, decimal, lineterminator, quotechar, quoting, doublequote, escapechar, comment, encoding, encoding_errors, dialect, error_bad_lines, warn_bad_lines, on_bad_lines, delim_whitespace, low_memory, memory_map, float_precision, storage_options)\u001b[0m\n\u001b[0;32m    678\u001b[0m kwds\u001b[38;5;241m.\u001b[39mupdate(kwds_defaults)\n\u001b[1;32m--> 680\u001b[0m \u001b[38;5;28;01mreturn\u001b[39;00m \u001b[43m_read\u001b[49m\u001b[43m(\u001b[49m\u001b[43mfilepath_or_buffer\u001b[49m\u001b[43m,\u001b[49m\u001b[43m \u001b[49m\u001b[43mkwds\u001b[49m\u001b[43m)\u001b[49m\n",
      "File \u001b[1;32m~\\.conda\\envs\\yolo\\lib\\site-packages\\pandas\\io\\parsers\\readers.py:575\u001b[0m, in \u001b[0;36m_read\u001b[1;34m(filepath_or_buffer, kwds)\u001b[0m\n\u001b[0;32m    574\u001b[0m \u001b[38;5;66;03m# Create the parser.\u001b[39;00m\n\u001b[1;32m--> 575\u001b[0m parser \u001b[38;5;241m=\u001b[39m \u001b[43mTextFileReader\u001b[49m\u001b[43m(\u001b[49m\u001b[43mfilepath_or_buffer\u001b[49m\u001b[43m,\u001b[49m\u001b[43m \u001b[49m\u001b[38;5;241;43m*\u001b[39;49m\u001b[38;5;241;43m*\u001b[39;49m\u001b[43mkwds\u001b[49m\u001b[43m)\u001b[49m\n\u001b[0;32m    577\u001b[0m \u001b[38;5;28;01mif\u001b[39;00m chunksize \u001b[38;5;129;01mor\u001b[39;00m iterator:\n",
      "File \u001b[1;32m~\\.conda\\envs\\yolo\\lib\\site-packages\\pandas\\io\\parsers\\readers.py:933\u001b[0m, in \u001b[0;36mTextFileReader.__init__\u001b[1;34m(self, f, engine, **kwds)\u001b[0m\n\u001b[0;32m    932\u001b[0m \u001b[38;5;28mself\u001b[39m\u001b[38;5;241m.\u001b[39mhandles: IOHandles \u001b[38;5;241m|\u001b[39m \u001b[38;5;28;01mNone\u001b[39;00m \u001b[38;5;241m=\u001b[39m \u001b[38;5;28;01mNone\u001b[39;00m\n\u001b[1;32m--> 933\u001b[0m \u001b[38;5;28mself\u001b[39m\u001b[38;5;241m.\u001b[39m_engine \u001b[38;5;241m=\u001b[39m \u001b[38;5;28;43mself\u001b[39;49m\u001b[38;5;241;43m.\u001b[39;49m\u001b[43m_make_engine\u001b[49m\u001b[43m(\u001b[49m\u001b[43mf\u001b[49m\u001b[43m,\u001b[49m\u001b[43m \u001b[49m\u001b[38;5;28;43mself\u001b[39;49m\u001b[38;5;241;43m.\u001b[39;49m\u001b[43mengine\u001b[49m\u001b[43m)\u001b[49m\n",
      "File \u001b[1;32m~\\.conda\\envs\\yolo\\lib\\site-packages\\pandas\\io\\parsers\\readers.py:1235\u001b[0m, in \u001b[0;36mTextFileReader._make_engine\u001b[1;34m(self, f, engine)\u001b[0m\n\u001b[0;32m   1234\u001b[0m \u001b[38;5;28;01mtry\u001b[39;00m:\n\u001b[1;32m-> 1235\u001b[0m     \u001b[38;5;28;01mreturn\u001b[39;00m \u001b[43mmapping\u001b[49m\u001b[43m[\u001b[49m\u001b[43mengine\u001b[49m\u001b[43m]\u001b[49m\u001b[43m(\u001b[49m\u001b[43mf\u001b[49m\u001b[43m,\u001b[49m\u001b[43m \u001b[49m\u001b[38;5;241;43m*\u001b[39;49m\u001b[38;5;241;43m*\u001b[39;49m\u001b[38;5;28;43mself\u001b[39;49m\u001b[38;5;241;43m.\u001b[39;49m\u001b[43moptions\u001b[49m\u001b[43m)\u001b[49m\n\u001b[0;32m   1236\u001b[0m \u001b[38;5;28;01mexcept\u001b[39;00m \u001b[38;5;167;01mException\u001b[39;00m:\n",
      "File \u001b[1;32m~\\.conda\\envs\\yolo\\lib\\site-packages\\pandas\\io\\parsers\\c_parser_wrapper.py:75\u001b[0m, in \u001b[0;36mCParserWrapper.__init__\u001b[1;34m(self, src, **kwds)\u001b[0m\n\u001b[0;32m     74\u001b[0m kwds[\u001b[38;5;124m\"\u001b[39m\u001b[38;5;124mdtype\u001b[39m\u001b[38;5;124m\"\u001b[39m] \u001b[38;5;241m=\u001b[39m ensure_dtype_objs(kwds\u001b[38;5;241m.\u001b[39mget(\u001b[38;5;124m\"\u001b[39m\u001b[38;5;124mdtype\u001b[39m\u001b[38;5;124m\"\u001b[39m, \u001b[38;5;28;01mNone\u001b[39;00m))\n\u001b[1;32m---> 75\u001b[0m \u001b[38;5;28mself\u001b[39m\u001b[38;5;241m.\u001b[39m_reader \u001b[38;5;241m=\u001b[39m \u001b[43mparsers\u001b[49m\u001b[38;5;241;43m.\u001b[39;49m\u001b[43mTextReader\u001b[49m\u001b[43m(\u001b[49m\u001b[43msrc\u001b[49m\u001b[43m,\u001b[49m\u001b[43m \u001b[49m\u001b[38;5;241;43m*\u001b[39;49m\u001b[38;5;241;43m*\u001b[39;49m\u001b[43mkwds\u001b[49m\u001b[43m)\u001b[49m\n\u001b[0;32m     77\u001b[0m \u001b[38;5;28mself\u001b[39m\u001b[38;5;241m.\u001b[39munnamed_cols \u001b[38;5;241m=\u001b[39m \u001b[38;5;28mself\u001b[39m\u001b[38;5;241m.\u001b[39m_reader\u001b[38;5;241m.\u001b[39munnamed_cols\n",
      "File \u001b[1;32m~\\.conda\\envs\\yolo\\lib\\site-packages\\pandas\\_libs\\parsers.pyx:544\u001b[0m, in \u001b[0;36mpandas._libs.parsers.TextReader.__cinit__\u001b[1;34m()\u001b[0m\n",
      "File \u001b[1;32m~\\.conda\\envs\\yolo\\lib\\site-packages\\pandas\\_libs\\parsers.pyx:633\u001b[0m, in \u001b[0;36mpandas._libs.parsers.TextReader._get_header\u001b[1;34m()\u001b[0m\n",
      "File \u001b[1;32m~\\.conda\\envs\\yolo\\lib\\site-packages\\pandas\\_libs\\parsers.pyx:847\u001b[0m, in \u001b[0;36mpandas._libs.parsers.TextReader._tokenize_rows\u001b[1;34m()\u001b[0m\n",
      "File \u001b[1;32m~\\.conda\\envs\\yolo\\lib\\site-packages\\pandas\\_libs\\parsers.pyx:1952\u001b[0m, in \u001b[0;36mpandas._libs.parsers.raise_parser_error\u001b[1;34m()\u001b[0m\n",
      "\u001b[1;31mUnicodeDecodeError\u001b[0m: 'utf-8' codec can't decode byte 0x99 in position 27: invalid start byte",
      "\nDuring handling of the above exception, another exception occurred:\n",
      "\u001b[1;31mParserError\u001b[0m                               Traceback (most recent call last)",
      "Cell \u001b[1;32mIn [3], line 7\u001b[0m\n\u001b[0;32m      5\u001b[0m         dataframes\u001b[38;5;241m.\u001b[39mappend(pd\u001b[38;5;241m.\u001b[39mread_csv(file, delimiter\u001b[38;5;241m=\u001b[39m\u001b[38;5;124m'\u001b[39m\u001b[38;5;124m;\u001b[39m\u001b[38;5;124m'\u001b[39m))\n\u001b[0;32m      6\u001b[0m     \u001b[38;5;28;01mexcept\u001b[39;00m:\n\u001b[1;32m----> 7\u001b[0m         dataframes\u001b[38;5;241m.\u001b[39mappend(\u001b[43mpd\u001b[49m\u001b[38;5;241;43m.\u001b[39;49m\u001b[43mread_csv\u001b[49m\u001b[43m(\u001b[49m\u001b[43mfile\u001b[49m\u001b[43m,\u001b[49m\u001b[43m \u001b[49m\u001b[43mdelimiter\u001b[49m\u001b[38;5;241;43m=\u001b[39;49m\u001b[38;5;124;43m'\u001b[39;49m\u001b[38;5;124;43m;\u001b[39;49m\u001b[38;5;124;43m'\u001b[39;49m\u001b[43m,\u001b[49m\u001b[43m \u001b[49m\u001b[43mencoding\u001b[49m\u001b[38;5;241;43m=\u001b[39;49m\u001b[38;5;124;43m'\u001b[39;49m\u001b[38;5;124;43mlatin-1\u001b[39;49m\u001b[38;5;124;43m'\u001b[39;49m\u001b[43m)\u001b[49m)\n\u001b[0;32m      9\u001b[0m df_final \u001b[38;5;241m=\u001b[39m pd\u001b[38;5;241m.\u001b[39mconcat(dataframes, ignore_index\u001b[38;5;241m=\u001b[39m\u001b[38;5;28;01mTrue\u001b[39;00m)\n\u001b[0;32m     10\u001b[0m df_sem_duplicatas \u001b[38;5;241m=\u001b[39m df_final\u001b[38;5;241m.\u001b[39mdrop_duplicates(subset\u001b[38;5;241m=\u001b[39m\u001b[38;5;124m'\u001b[39m\u001b[38;5;124mid\u001b[39m\u001b[38;5;124m'\u001b[39m)\n",
      "File \u001b[1;32m~\\.conda\\envs\\yolo\\lib\\site-packages\\pandas\\util\\_decorators.py:311\u001b[0m, in \u001b[0;36mdeprecate_nonkeyword_arguments.<locals>.decorate.<locals>.wrapper\u001b[1;34m(*args, **kwargs)\u001b[0m\n\u001b[0;32m    305\u001b[0m \u001b[38;5;28;01mif\u001b[39;00m \u001b[38;5;28mlen\u001b[39m(args) \u001b[38;5;241m>\u001b[39m num_allow_args:\n\u001b[0;32m    306\u001b[0m     warnings\u001b[38;5;241m.\u001b[39mwarn(\n\u001b[0;32m    307\u001b[0m         msg\u001b[38;5;241m.\u001b[39mformat(arguments\u001b[38;5;241m=\u001b[39marguments),\n\u001b[0;32m    308\u001b[0m         \u001b[38;5;167;01mFutureWarning\u001b[39;00m,\n\u001b[0;32m    309\u001b[0m         stacklevel\u001b[38;5;241m=\u001b[39mstacklevel,\n\u001b[0;32m    310\u001b[0m     )\n\u001b[1;32m--> 311\u001b[0m \u001b[38;5;28;01mreturn\u001b[39;00m \u001b[43mfunc\u001b[49m\u001b[43m(\u001b[49m\u001b[38;5;241;43m*\u001b[39;49m\u001b[43margs\u001b[49m\u001b[43m,\u001b[49m\u001b[43m \u001b[49m\u001b[38;5;241;43m*\u001b[39;49m\u001b[38;5;241;43m*\u001b[39;49m\u001b[43mkwargs\u001b[49m\u001b[43m)\u001b[49m\n",
      "File \u001b[1;32m~\\.conda\\envs\\yolo\\lib\\site-packages\\pandas\\io\\parsers\\readers.py:680\u001b[0m, in \u001b[0;36mread_csv\u001b[1;34m(filepath_or_buffer, sep, delimiter, header, names, index_col, usecols, squeeze, prefix, mangle_dupe_cols, dtype, engine, converters, true_values, false_values, skipinitialspace, skiprows, skipfooter, nrows, na_values, keep_default_na, na_filter, verbose, skip_blank_lines, parse_dates, infer_datetime_format, keep_date_col, date_parser, dayfirst, cache_dates, iterator, chunksize, compression, thousands, decimal, lineterminator, quotechar, quoting, doublequote, escapechar, comment, encoding, encoding_errors, dialect, error_bad_lines, warn_bad_lines, on_bad_lines, delim_whitespace, low_memory, memory_map, float_precision, storage_options)\u001b[0m\n\u001b[0;32m    665\u001b[0m kwds_defaults \u001b[38;5;241m=\u001b[39m _refine_defaults_read(\n\u001b[0;32m    666\u001b[0m     dialect,\n\u001b[0;32m    667\u001b[0m     delimiter,\n\u001b[1;32m   (...)\u001b[0m\n\u001b[0;32m    676\u001b[0m     defaults\u001b[38;5;241m=\u001b[39m{\u001b[38;5;124m\"\u001b[39m\u001b[38;5;124mdelimiter\u001b[39m\u001b[38;5;124m\"\u001b[39m: \u001b[38;5;124m\"\u001b[39m\u001b[38;5;124m,\u001b[39m\u001b[38;5;124m\"\u001b[39m},\n\u001b[0;32m    677\u001b[0m )\n\u001b[0;32m    678\u001b[0m kwds\u001b[38;5;241m.\u001b[39mupdate(kwds_defaults)\n\u001b[1;32m--> 680\u001b[0m \u001b[38;5;28;01mreturn\u001b[39;00m \u001b[43m_read\u001b[49m\u001b[43m(\u001b[49m\u001b[43mfilepath_or_buffer\u001b[49m\u001b[43m,\u001b[49m\u001b[43m \u001b[49m\u001b[43mkwds\u001b[49m\u001b[43m)\u001b[49m\n",
      "File \u001b[1;32m~\\.conda\\envs\\yolo\\lib\\site-packages\\pandas\\io\\parsers\\readers.py:581\u001b[0m, in \u001b[0;36m_read\u001b[1;34m(filepath_or_buffer, kwds)\u001b[0m\n\u001b[0;32m    578\u001b[0m     \u001b[38;5;28;01mreturn\u001b[39;00m parser\n\u001b[0;32m    580\u001b[0m \u001b[38;5;28;01mwith\u001b[39;00m parser:\n\u001b[1;32m--> 581\u001b[0m     \u001b[38;5;28;01mreturn\u001b[39;00m \u001b[43mparser\u001b[49m\u001b[38;5;241;43m.\u001b[39;49m\u001b[43mread\u001b[49m\u001b[43m(\u001b[49m\u001b[43mnrows\u001b[49m\u001b[43m)\u001b[49m\n",
      "File \u001b[1;32m~\\.conda\\envs\\yolo\\lib\\site-packages\\pandas\\io\\parsers\\readers.py:1254\u001b[0m, in \u001b[0;36mTextFileReader.read\u001b[1;34m(self, nrows)\u001b[0m\n\u001b[0;32m   1252\u001b[0m nrows \u001b[38;5;241m=\u001b[39m validate_integer(\u001b[38;5;124m\"\u001b[39m\u001b[38;5;124mnrows\u001b[39m\u001b[38;5;124m\"\u001b[39m, nrows)\n\u001b[0;32m   1253\u001b[0m \u001b[38;5;28;01mtry\u001b[39;00m:\n\u001b[1;32m-> 1254\u001b[0m     index, columns, col_dict \u001b[38;5;241m=\u001b[39m \u001b[38;5;28;43mself\u001b[39;49m\u001b[38;5;241;43m.\u001b[39;49m\u001b[43m_engine\u001b[49m\u001b[38;5;241;43m.\u001b[39;49m\u001b[43mread\u001b[49m\u001b[43m(\u001b[49m\u001b[43mnrows\u001b[49m\u001b[43m)\u001b[49m\n\u001b[0;32m   1255\u001b[0m \u001b[38;5;28;01mexcept\u001b[39;00m \u001b[38;5;167;01mException\u001b[39;00m:\n\u001b[0;32m   1256\u001b[0m     \u001b[38;5;28mself\u001b[39m\u001b[38;5;241m.\u001b[39mclose()\n",
      "File \u001b[1;32m~\\.conda\\envs\\yolo\\lib\\site-packages\\pandas\\io\\parsers\\c_parser_wrapper.py:225\u001b[0m, in \u001b[0;36mCParserWrapper.read\u001b[1;34m(self, nrows)\u001b[0m\n\u001b[0;32m    223\u001b[0m \u001b[38;5;28;01mtry\u001b[39;00m:\n\u001b[0;32m    224\u001b[0m     \u001b[38;5;28;01mif\u001b[39;00m \u001b[38;5;28mself\u001b[39m\u001b[38;5;241m.\u001b[39mlow_memory:\n\u001b[1;32m--> 225\u001b[0m         chunks \u001b[38;5;241m=\u001b[39m \u001b[38;5;28;43mself\u001b[39;49m\u001b[38;5;241;43m.\u001b[39;49m\u001b[43m_reader\u001b[49m\u001b[38;5;241;43m.\u001b[39;49m\u001b[43mread_low_memory\u001b[49m\u001b[43m(\u001b[49m\u001b[43mnrows\u001b[49m\u001b[43m)\u001b[49m\n\u001b[0;32m    226\u001b[0m         \u001b[38;5;66;03m# destructive to chunks\u001b[39;00m\n\u001b[0;32m    227\u001b[0m         data \u001b[38;5;241m=\u001b[39m _concatenate_chunks(chunks)\n",
      "File \u001b[1;32m~\\.conda\\envs\\yolo\\lib\\site-packages\\pandas\\_libs\\parsers.pyx:805\u001b[0m, in \u001b[0;36mpandas._libs.parsers.TextReader.read_low_memory\u001b[1;34m()\u001b[0m\n",
      "File \u001b[1;32m~\\.conda\\envs\\yolo\\lib\\site-packages\\pandas\\_libs\\parsers.pyx:861\u001b[0m, in \u001b[0;36mpandas._libs.parsers.TextReader._read_rows\u001b[1;34m()\u001b[0m\n",
      "File \u001b[1;32m~\\.conda\\envs\\yolo\\lib\\site-packages\\pandas\\_libs\\parsers.pyx:847\u001b[0m, in \u001b[0;36mpandas._libs.parsers.TextReader._tokenize_rows\u001b[1;34m()\u001b[0m\n",
      "File \u001b[1;32m~\\.conda\\envs\\yolo\\lib\\site-packages\\pandas\\_libs\\parsers.pyx:1960\u001b[0m, in \u001b[0;36mpandas._libs.parsers.raise_parser_error\u001b[1;34m()\u001b[0m\n",
      "\u001b[1;31mParserError\u001b[0m: Error tokenizing data. C error: Expected 4 fields in line 85, saw 6\n"
     ]
    }
   ],
   "source": [
    "dataframes = []\n",
    "\n",
    "for file in files:\n",
    "    try:\n",
    "        dataframes.append(pd.read_csv(file, delimiter=';'))\n",
    "    except:\n",
    "        dataframes.append(pd.read_csv(file, delimiter=';', encoding='latin-1'))\n",
    "\n",
    "df_final = pd.concat(dataframes, ignore_index=True)\n",
    "df_sem_duplicatas = df_final.drop_duplicates(subset='id')\n",
    "df_sem_duplicatas['count'] = 1"
   ]
  },
  {
   "cell_type": "markdown",
   "id": "4b5eb59a",
   "metadata": {},
   "source": [
    "# Tratando os valores nulos \n",
    "\n",
    "Substituindo os valores nulos da coluna 'ano' pelo ano da coluna 'data_inversa'"
   ]
  },
  {
   "cell_type": "code",
   "execution_count": null,
   "id": "433c2853",
   "metadata": {},
   "outputs": [],
   "source": [
    "def get_ano(year):\n",
    "    \n",
    "    regex1 = r'([0-9]+)(-[0-9]+)(-[0-9]+)'\n",
    "    regex2 = r'([0-9])+/([0-9])+/([0-9]+)'\n",
    "    \n",
    "    if '-' in year:\n",
    "        return int(re.search(regex1, year).group(1))\n",
    "    else:\n",
    "        return int('20' + re.search(regex2, year).group(3))"
   ]
  },
  {
   "cell_type": "code",
   "execution_count": null,
   "id": "9b3dbb6d",
   "metadata": {},
   "outputs": [],
   "source": [
    "df_sem_duplicatas.loc[df_sem_duplicatas['ano'].isnull(), 'ano'] = df_sem_duplicatas.loc[df_sem_duplicatas['ano'].isnull(), 'data_inversa'].apply(get_ano)"
   ]
  },
  {
   "cell_type": "code",
   "execution_count": null,
   "id": "91f7b86e",
   "metadata": {},
   "outputs": [],
   "source": [
    "df_sem_duplicatas['ano'].unique()"
   ]
  },
  {
   "cell_type": "code",
   "execution_count": null,
   "id": "cd53c795",
   "metadata": {},
   "outputs": [],
   "source": [
    "df_sem_duplicatas[['ano']].isnull().sum()"
   ]
  },
  {
   "cell_type": "code",
   "execution_count": null,
   "id": "51f43dbc",
   "metadata": {},
   "outputs": [],
   "source": [
    "df_sem_duplicatas.columns"
   ]
  },
  {
   "cell_type": "code",
   "execution_count": null,
   "id": "68ad50f3",
   "metadata": {},
   "outputs": [],
   "source": [
    "df_sem_duplicatas"
   ]
  },
  {
   "cell_type": "code",
   "execution_count": null,
   "id": "b6a57434",
   "metadata": {},
   "outputs": [],
   "source": [
    "df_sem_duplicatas.groupby(['ano'])['count'].sum().reset_index()"
   ]
  },
  {
   "cell_type": "markdown",
   "id": "ef59ab30",
   "metadata": {},
   "source": [
    "# Graficos"
   ]
  },
  {
   "cell_type": "code",
   "execution_count": null,
   "id": "cc55ac89",
   "metadata": {},
   "outputs": [],
   "source": [
    "\n",
    "plt.style.use('seaborn')\n",
    "my_blue = '#1e83af'\n",
    "my_red = '#9c1416'\n",
    "my_green = '#1a7512'\n",
    "plt.figure(figsize=(12, 8))"
   ]
  },
  {
   "cell_type": "code",
   "execution_count": null,
   "id": "2378eb2b",
   "metadata": {},
   "outputs": [],
   "source": [
    "def addlabels(x,y):\n",
    "    for i in range(len(x)):\n",
    "        plt.text(i, y[i], y[i], ha = 'center')"
   ]
  },
  {
   "cell_type": "code",
   "execution_count": null,
   "id": "52dcba05",
   "metadata": {},
   "outputs": [],
   "source": [
    "def grafico_simples(data: pd.core.frame.DataFrame, eixo_x: str, eixo_y: str, title:str) -> None:\n",
    "    \n",
    "    X, Y = data[eixo_x], data[eixo_y].values\n",
    "\n",
    "    plt.title(title)\n",
    "#     ax=plt.axes()\n",
    "#     ax.set_facecolor('white')\n",
    "    plt.bar(X, Y, color=my_blue, label=eixo_y, width=0.6)\n",
    "    addlabels(X, Y)\n",
    "    plt.legend(loc=\"upper right\")\n",
    "    plt.xlabel(eixo_x)\n",
    "    plt.ylabel(eixo_y)\n",
    "    plt.xticks(rotation=45)\n",
    "    plt.show()"
   ]
  },
  {
   "cell_type": "code",
   "execution_count": null,
   "id": "828292bf",
   "metadata": {},
   "outputs": [],
   "source": [
    "df_sem_duplicatas.groupby(['ano'])['count'].sum().reset_index()"
   ]
  },
  {
   "cell_type": "markdown",
   "id": "96689666",
   "metadata": {},
   "source": [
    "## Gráfico da queda dos acidentes "
   ]
  },
  {
   "cell_type": "code",
   "execution_count": null,
   "id": "e7dd48c4",
   "metadata": {},
   "outputs": [],
   "source": [
    "df_acidentes_count = df_sem_duplicatas.groupby(['ano'])['count'].sum().reset_index()\n",
    "\n",
    "\n",
    "df_acidentes_count = df_acidentes_count.astype({'ano': str})\n",
    "#df_acidentes_count['ano'] = pd.to_string(df_acidentes_count['ano'])\n",
    "\n",
    "grafico_simples(df_acidentes_count, 'ano', 'count', \n",
    "                'Gráfico da queda dos acidentes')\n"
   ]
  },
  {
   "cell_type": "markdown",
   "id": "fdca3760",
   "metadata": {},
   "source": [
    "## Gráfico de causas de acidente 2011"
   ]
  },
  {
   "cell_type": "code",
   "execution_count": null,
   "id": "7b8c49b3",
   "metadata": {},
   "outputs": [],
   "source": [
    "df_graph = df_sem_duplicatas.loc[df_sem_duplicatas['ano'] == 2011].groupby('causa_acidente')['count'].sum().reset_index()\n",
    "#grafico_simples(df_graph, 'causa_acidente', 'mortos', 'Gráfico de causas de acidente 2011')\n",
    "\n",
    "plt.title('Causas de acidentes durante o ano de 2011')\n",
    "plt.barh(df_graph['causa_acidente'], df_graph['count'].values, color=my_blue, label='mortos')\n",
    "plt.legend(loc=\"upper right\")\n",
    "plt.xlabel('número de acidentes')\n",
    "plt.ylabel('causa de acidentes')\n",
    "plt.xticks(rotation=45)\n",
    "plt.show()"
   ]
  },
  {
   "cell_type": "code",
   "execution_count": null,
   "id": "1f3fbc9f",
   "metadata": {},
   "outputs": [],
   "source": [
    "acidentes_by_uf = df_sem_duplicatas.groupby('uf')['count'].sum().reset_index()\n",
    "acidentes_by_uf = acidentes_by_uf.sort_values('count', ascending=False).reset_index(drop=True)\n",
    "acidentes_by_uf"
   ]
  },
  {
   "cell_type": "markdown",
   "id": "e8cf3b3f",
   "metadata": {},
   "source": [
    "### Os 5 estados que acontecem mais acidentes + PB"
   ]
  },
  {
   "cell_type": "code",
   "execution_count": null,
   "id": "5bfa748b",
   "metadata": {},
   "outputs": [],
   "source": [
    "grafico_simples(acidentes_by_uf.loc[acidentes_by_uf['uf'].isin(['MG', 'SC', 'PR', 'RJ', 'RS', 'PB'])], 'uf', 'count', \n",
    "                'Os 5 estados que acontecem mais acidentes + PB')"
   ]
  },
  {
   "cell_type": "markdown",
   "id": "73a6a02c",
   "metadata": {},
   "source": [
    "## Gráficos da Paraiba"
   ]
  },
  {
   "cell_type": "code",
   "execution_count": null,
   "id": "7c269dd9",
   "metadata": {},
   "outputs": [],
   "source": [
    "df_sem_duplicatas_PB = df_sem_duplicatas.loc[df_sem_duplicatas['uf'] == 'PB'].reset_index(drop=True)"
   ]
  },
  {
   "cell_type": "code",
   "execution_count": null,
   "id": "4c50bf2a",
   "metadata": {},
   "outputs": [],
   "source": [
    "df_sem_duplicatas_PB['municipio'] = df_sem_duplicatas_PB['municipio'].map(lambda nome: nome.strip())"
   ]
  },
  {
   "cell_type": "code",
   "execution_count": null,
   "id": "422a3a88",
   "metadata": {},
   "outputs": [],
   "source": [
    "\n",
    "df_pessoas = df_sem_duplicatas_PB.groupby(['ano'])['pessoas'].sum().reset_index()\n",
    "df_mortos = df_sem_duplicatas_PB.groupby(['ano'])['mortos'].sum().reset_index()\n",
    "df_feridos = df_sem_duplicatas_PB.groupby(['ano'])['feridos'].sum().reset_index()\n",
    "df_ilesos = df_sem_duplicatas_PB.groupby(['ano'])['ilesos'].sum().reset_index()\n",
    "df_ignorados = df_sem_duplicatas_PB.groupby(['ano'])['ignorados'].sum().reset_index()\n",
    "\n",
    "\n",
    "anos = df_mortos['ano'].values\n",
    "anos = [str(ano) for ano in anos]"
   ]
  },
  {
   "cell_type": "code",
   "execution_count": null,
   "id": "8ae10128",
   "metadata": {},
   "outputs": [],
   "source": [
    "df_total_pessoas = pd.concat([df_pessoas, \n",
    "                              df_mortos.drop(columns=['ano']), \n",
    "                               df_ignorados.drop(columns=['ano']),\n",
    "                              df_feridos.drop(columns=['ano']), \n",
    "                              df_ilesos.drop(columns=['ano'])], 1)"
   ]
  },
  {
   "cell_type": "code",
   "execution_count": null,
   "id": "340064be",
   "metadata": {},
   "outputs": [],
   "source": [
    "df_total_pessoas"
   ]
  },
  {
   "cell_type": "code",
   "execution_count": null,
   "id": "820f4391",
   "metadata": {},
   "outputs": [],
   "source": [
    "plt.pie(df_total_pessoas.iloc[10, 2:], labels = df_total_pessoas.columns[2:], autopct='%.0f%%')\n",
    "plt.show()"
   ]
  },
  {
   "cell_type": "code",
   "execution_count": null,
   "id": "11d8b9d3",
   "metadata": {},
   "outputs": [],
   "source": [
    "df_total_pessoas_percent = df_total_pessoas.copy()\n",
    "\n",
    "df_total_pessoas_percent['mortos'] = df_total_pessoas_percent['mortos'] / df_total_pessoas_percent['pessoas']\n",
    "df_total_pessoas_percent['ilesos'] = df_total_pessoas_percent['ilesos'] / df_total_pessoas_percent['pessoas']\n",
    "df_total_pessoas_percent['feridos'] = df_total_pessoas_percent['feridos'] / df_total_pessoas_percent['pessoas']\n",
    "df_total_pessoas_percent['ignorados'] = df_total_pessoas_percent['ignorados'] / df_total_pessoas_percent['pessoas']"
   ]
  },
  {
   "cell_type": "code",
   "execution_count": null,
   "id": "247f86c8",
   "metadata": {},
   "outputs": [],
   "source": [
    "df_total_pessoas_percent.index = df_total_pessoas_percent['ano']\n",
    "df_total_pessoas_percent.drop(columns=['ano', 'pessoas'], inplace=True)\n",
    "df_total_pessoas_percent"
   ]
  },
  {
   "cell_type": "code",
   "execution_count": null,
   "id": "89331471",
   "metadata": {},
   "outputs": [],
   "source": [
    "df_total_pessoas_percent.plot.bar(stacked=True, width=0.7)\n",
    "plt.legend(\n",
    "    bbox_to_anchor=(0.5, 1.02),\n",
    "    loc=\"lower center\",\n",
    "    borderaxespad=0,\n",
    "    frameon=False,\n",
    "    ncol=4,\n",
    ")\n",
    "for ix, row in df_total_pessoas_percent.reset_index(drop=True).iterrows():\n",
    "    cumulative = 0\n",
    "    for element in row:\n",
    "        if element == element and element > 0.01:\n",
    "            plt.text(\n",
    "                ix,\n",
    "                cumulative + element / 2,\n",
    "                f\"{np.round(element * 100, 1)}%\",\n",
    "                va=\"center\",\n",
    "                ha=\"center\",\n",
    "            )\n",
    "        cumulative += element\n",
    "plt.tight_layout()"
   ]
  },
  {
   "cell_type": "code",
   "execution_count": null,
   "id": "7e206f4c",
   "metadata": {},
   "outputs": [],
   "source": [
    "df_pessoas"
   ]
  },
  {
   "cell_type": "code",
   "execution_count": null,
   "id": "5d326123",
   "metadata": {},
   "outputs": [],
   "source": [
    "grafico_simples(df_pessoas, 'ano', 'pessoas', \n",
    "                'Quantidade de pessoas que sofreram acidente na PB entre 2007 e 2020')"
   ]
  },
  {
   "cell_type": "markdown",
   "id": "d42f8768",
   "metadata": {},
   "source": [
    "### Número de mortos, feridos e ilesos a cada ano na Paraíba"
   ]
  },
  {
   "cell_type": "code",
   "execution_count": null,
   "id": "bd23c782",
   "metadata": {},
   "outputs": [],
   "source": [
    "plt.title('Gráfico de y em função de x')\n",
    "plt.plot(anos, df_mortos['mortos'].values, marker='o', color=my_blue, label=\"Mortos\")\n",
    "plt.plot(anos, df_feridos['feridos'].values, marker='*', color=my_red, label=\"Feridos\")\n",
    "plt.plot(anos, df_ilesos['ilesos'].values, marker='.', color=my_green, label=\"Ilesos\")\n",
    "plt.legend(loc=\"upper right\")\n",
    "plt.xlabel('Anos')\n",
    "plt.ylabel('Status das vitimas')\n",
    "plt.xticks(rotation=45)\n",
    "plt.grid(True)\n",
    "plt.show()"
   ]
  },
  {
   "cell_type": "code",
   "execution_count": null,
   "id": "b5ad54e7",
   "metadata": {},
   "outputs": [],
   "source": [
    "df_sem_duplicatas_PB"
   ]
  },
  {
   "cell_type": "code",
   "execution_count": null,
   "id": "0670a78d",
   "metadata": {},
   "outputs": [],
   "source": [
    "def split_time(time):\n",
    "    \n",
    "    time_int = int(''.join(time.split(':')[:2]))\n",
    "    \n",
    "    if 0 < time_int < 600:\n",
    "        return '00-06'\n",
    "    elif 600 < time_int < 800:\n",
    "        return '06-08'\n",
    "    elif 800 < time_int < 1200:\n",
    "        return '08-12'\n",
    "    elif 1200 < time_int < 1600:\n",
    "        return '12-16'\n",
    "    elif 1600 < time_int < 2000:\n",
    "        return '16-20'\n",
    "    elif 2000 < time_int < 2400:\n",
    "        return '20-24'\n"
   ]
  },
  {
   "cell_type": "code",
   "execution_count": null,
   "id": "38224525",
   "metadata": {},
   "outputs": [],
   "source": [
    "df_sem_duplicatas_PB['time_split'] = df_sem_duplicatas_PB['horario'].apply(lambda time: split_time(time), 1)"
   ]
  },
  {
   "cell_type": "code",
   "execution_count": null,
   "id": "c233805d",
   "metadata": {},
   "outputs": [],
   "source": [
    "df_sem_duplicatas_PB['time_split'].value_counts()"
   ]
  },
  {
   "cell_type": "code",
   "execution_count": null,
   "id": "cc4de511",
   "metadata": {},
   "outputs": [],
   "source": [
    "import geopandas as gpd"
   ]
  },
  {
   "cell_type": "code",
   "execution_count": null,
   "id": "0b19c63c",
   "metadata": {},
   "outputs": [],
   "source": [
    "INFOS_UFS = gpd.read_file('dados/bcim_2016_21_11_2018.gpkg', layer='lim_unidade_federacao_a')"
   ]
  },
  {
   "cell_type": "code",
   "execution_count": null,
   "id": "3aa0504d",
   "metadata": {},
   "outputs": [],
   "source": [
    "INFOS_UFS.columns"
   ]
  },
  {
   "cell_type": "code",
   "execution_count": null,
   "id": "d773bcec",
   "metadata": {},
   "outputs": [],
   "source": [
    "df_sem_duplicatas = df_sem_duplicatas.rename(columns={\"state\": \"sigla\"})"
   ]
  },
  {
   "cell_type": "code",
   "execution_count": null,
   "id": "188e6374",
   "metadata": {},
   "outputs": [],
   "source": [
    "df_sem_duplicatas_ufs = df_sem_duplicatas.groupby(['sigla'])['pessoas'].sum().reset_index()\n",
    "df_sem_duplicatas_ufs = df_sem_duplicatas_ufs.iloc[1:, :].reset_index(drop=True)"
   ]
  },
  {
   "cell_type": "code",
   "execution_count": null,
   "id": "b3f90583",
   "metadata": {},
   "outputs": [],
   "source": [
    "df_sem_duplicatas_ufs"
   ]
  },
  {
   "cell_type": "code",
   "execution_count": null,
   "id": "201aaa30",
   "metadata": {},
   "outputs": [],
   "source": [
    "df_sem_duplicatas_merged = INFOS_UFS.merge(df_sem_duplicatas_ufs, \n",
    "                                           on='sigla', \n",
    "                                           how='left')"
   ]
  },
  {
   "cell_type": "code",
   "execution_count": null,
   "id": "aed5a551",
   "metadata": {},
   "outputs": [],
   "source": [
    "df_sem_duplicatas_merged"
   ]
  },
  {
   "cell_type": "code",
   "execution_count": null,
   "id": "7c6a8108",
   "metadata": {},
   "outputs": [],
   "source": [
    "df_sem_duplicatas_merged.plot(column='pessoas',\n",
    "                             cmap='Reds',\n",
    "                             legend=True,\n",
    "                             edgecolor='black')"
   ]
  }
 ],
 "metadata": {
  "kernelspec": {
   "display_name": "Python 3 (ipykernel)",
   "language": "python",
   "name": "python3"
  },
  "language_info": {
   "codemirror_mode": {
    "name": "ipython",
    "version": 3
   },
   "file_extension": ".py",
   "mimetype": "text/x-python",
   "name": "python",
   "nbconvert_exporter": "python",
   "pygments_lexer": "ipython3",
   "version": "3.8.13"
  }
 },
 "nbformat": 4,
 "nbformat_minor": 5
}
